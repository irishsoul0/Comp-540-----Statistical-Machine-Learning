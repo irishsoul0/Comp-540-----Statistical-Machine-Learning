{
 "cells": [
  {
   "cell_type": "markdown",
   "metadata": {},
   "source": [
    "### Using regularized logistic regression to classify email"
   ]
  },
  {
   "cell_type": "code",
   "execution_count": null,
   "metadata": {},
   "outputs": [
    {
     "name": "stdout",
     "output_type": "stream",
     "text": [
      "L2 Penalty experiments -----------\n",
      "best_lambda =  0.1\n",
      "Coefficients =  [-4.86311352] [[ -2.74146071e-02  -2.25297675e-01   1.21840887e-01   2.29362950e+00\n",
      "    2.70425725e-01   2.32851138e-01   9.28595397e-01   2.95200207e-01\n",
      "    1.62205926e-01   6.78259218e-02  -8.32603863e-02  -1.60373349e-01\n",
      "   -4.72247961e-02   1.07676981e-02   1.87903723e-01   8.19771793e-01\n",
      "    5.09529024e-01   3.98710930e-02   2.67729672e-01   3.47047323e-01\n",
      "    2.60498934e-01   3.64605662e-01   7.25019817e-01   1.96728231e-01\n",
      "   -3.15395710e+00  -4.03133846e-01  -1.25451037e+01  -6.16576910e-02\n",
      "   -1.56114584e+00  -5.51430684e-02  -3.00822417e-02   4.07263786e-01\n",
      "   -3.68156514e-01  -1.43611905e+00  -5.87182014e-01   4.44294654e-01\n",
      "    4.23159765e-02  -1.56897099e-01  -4.55330694e-01  -1.02250222e-01\n",
      "   -3.54273316e+00  -1.72944435e+00  -4.37529479e-01  -1.05999940e+00\n",
      "   -9.18599262e-01  -1.75490294e+00  -1.67475816e-01  -9.56875703e-01\n",
      "   -3.65653414e-01  -1.36535585e-01  -6.58692618e-02   2.06714070e-01\n",
      "    1.70694411e+00   1.21460291e+00  -3.35270289e-01   1.56141557e+00\n",
      "    3.68775531e-01]]\n",
      "Accuracy on set aside test set for  std  =  0.9296875\n",
      "best_lambda =  0.6\n",
      "Coefficients =  [-4.60944169] [[-0.45145768 -0.28466462 -0.06326994  0.68295883  1.2105326   0.91505167\n",
      "   2.83046496  1.43679008  0.24145526  0.35776633 -0.38644284 -0.48143362\n",
      "  -0.69587006  0.37456805  0.64885553  1.53956339  1.38117859  0.07197466\n",
      "   0.37642827  0.63502215  0.52274139  0.3856387   2.00139428  1.50817005\n",
      "  -3.14061214 -0.66616202 -4.90648723 -0.03259625 -1.28886408 -0.15745773\n",
      "  -0.63900653 -0.3023038  -1.00989893 -0.42569086 -1.08722174  1.28434962\n",
      "  -0.90558594 -0.35286042 -1.12971564 -0.62591164 -1.40337362 -2.44124147\n",
      "  -1.5565411  -1.94777897 -1.13114663 -2.79991572 -0.75122185 -2.11603062\n",
      "  -1.685116   -0.66773959 -0.69125883  2.06912455  4.21977442  0.76308623\n",
      "   0.70345788  0.1700839   0.43018828]]\n",
      "Accuracy on set aside test set for  logt  =  0.943359375\n",
      "best_lambda =  1.1\n",
      "Coefficients =  [-1.83742964] [[ -1.91463198e-01  -1.66872958e-01  -3.93802023e-01   2.39462779e-01\n",
      "    9.83292893e-01   1.75311414e-01   2.12183419e+00   7.92547596e-01\n",
      "    1.94566579e-01   3.34388296e-01  -2.90824615e-01  -4.20297341e-01\n",
      "   -9.06380382e-01   2.56299856e-01   5.15189474e-01   1.47014136e+00\n",
      "    8.76696476e-01  -8.32760956e-02   2.41264180e-01   5.01801273e-01\n",
      "    7.37046896e-01   1.15518007e+00   9.11195183e-01   1.36902984e+00\n",
      "   -2.35248856e+00  -4.17190307e-01  -3.79772643e+00   6.88337611e-01\n",
      "   -6.07237597e-01  -1.61622832e-01  -9.24671805e-01  -6.04558748e-01\n",
      "   -6.91161481e-01  -3.85638232e-02  -6.71440136e-01   3.52732370e-01\n",
      "   -1.05408408e+00   5.28551480e-01  -7.65306731e-01  -2.46067578e-01\n",
      "   -1.27643951e+00  -1.90613122e+00  -7.90184279e-01  -1.57619158e+00\n",
      "   -7.64312034e-01  -2.22366816e+00  -8.34144234e-02  -1.39371572e+00\n",
      "   -3.06993897e-01   2.00231957e-01  -1.70968577e-01   1.20762876e+00\n",
      "    1.45771409e+00   3.79908690e-02   5.31812960e-04   5.31812960e-04\n",
      "    5.31812960e-04]]\n",
      "Accuracy on set aside test set for  bin  =  0.927734375\n",
      "L1 Penalty experiments -----------\n"
     ]
    }
   ],
   "source": [
    "import scipy.io\n",
    "import utils\n",
    "import numpy as np\n",
    "from sklearn import linear_model\n",
    "\n",
    "# No modifications in this script\n",
    "# complete the functions in util.py; then run the script\n",
    "\n",
    "# load the spam data in\n",
    "\n",
    "Xtrain,Xtest,ytrain,ytest = utils.load_spam_data()\n",
    "\n",
    "# Preprocess the data \n",
    "\n",
    "Xtrain_std,mu,sigma = utils.std_features(Xtrain)\n",
    "Xtrain_logt = utils.log_features(Xtrain)\n",
    "Xtrain_bin = utils.bin_features(Xtrain)\n",
    "\n",
    "Xtest_std = (Xtest - mu)/sigma\n",
    "Xtest_logt = utils.log_features(Xtest)\n",
    "Xtest_bin = utils.bin_features(Xtest)\n",
    "\n",
    "# find good lambda by cross validation for these three sets\n",
    "\n",
    "def run_dataset(X,ytrain,Xt,ytest,type,penalty):\n",
    "\n",
    "    best_lambda = utils.select_lambda_crossval(X,ytrain,0.1,5.1,0.5,penalty)\n",
    "    print \"best_lambda = \", best_lambda\n",
    "\n",
    "    # train a classifier on best_lambda and run it\n",
    "    if penalty == \"l2\":\n",
    "        lreg = linear_model.LogisticRegression(penalty=penalty,C=1.0/best_lambda, solver='lbfgs',fit_intercept=True)\n",
    "    else:\n",
    "        lreg = linear_model.LogisticRegression(penalty=penalty,C=1.0/best_lambda, solver='liblinear',fit_intercept=True)\n",
    "    lreg.fit(X,ytrain)\n",
    "    print \"Coefficients = \", lreg.intercept_,lreg.coef_\n",
    "    predy = lreg.predict(Xt)\n",
    "    print \"Accuracy on set aside test set for \", type, \" = \", np.mean(predy==ytest)\n",
    "\n",
    "print \"L2 Penalty experiments -----------\"\n",
    "run_dataset(Xtrain_std,ytrain,Xtest_std,ytest,\"std\",\"l2\")\n",
    "run_dataset(Xtrain_logt,ytrain,Xtest_logt,ytest,\"logt\",\"l2\")\n",
    "run_dataset(Xtrain_bin,ytrain,Xtest_bin,ytest,\"bin\",\"l2\")\n",
    "\n",
    "print \"L1 Penalty experiments -----------\"\n",
    "run_dataset(Xtrain_std,ytrain,Xtest_std,ytest,\"std\",\"l1\")\n",
    "run_dataset(Xtrain_logt,ytrain,Xtest_logt,ytest,\"logt\",\"l1\")\n",
    "run_dataset(Xtrain_bin,ytrain,Xtest_bin,ytest,\"bin\",\"l1\")"
   ]
  },
  {
   "cell_type": "code",
   "execution_count": null,
   "metadata": {
    "collapsed": true
   },
   "outputs": [],
   "source": []
  }
 ],
 "metadata": {
  "kernelspec": {
   "display_name": "Python 2",
   "language": "python",
   "name": "python2"
  },
  "language_info": {
   "codemirror_mode": {
    "name": "ipython",
    "version": 2
   },
   "file_extension": ".py",
   "mimetype": "text/x-python",
   "name": "python",
   "nbconvert_exporter": "python",
   "pygments_lexer": "ipython2",
   "version": "2.7.14"
  }
 },
 "nbformat": 4,
 "nbformat_minor": 1
}
